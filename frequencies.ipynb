{
 "cells": [
  {
   "cell_type": "code",
   "execution_count": 6,
   "metadata": {},
   "outputs": [
    {
     "name": "stdout",
     "output_type": "stream",
     "text": [
      "{'o': 4, 'm': 4}\n"
     ]
    }
   ],
   "source": [
    "# # Task:Count the number of each letter in a sentence.\n",
    "# # The department you work for undertook a project construction that makes word / text analysis. You are asked to calculate the number of letters or any chars in the sentences entered under this project.\n",
    " # Write a Python program that;\n",
    "# # takes a sentence from the user,\n",
    "# # counts the number of each letter of the sentence,\n",
    "# # collects the letters/chars as a key and the counted numbers as a value in a dictionary.###\n",
    "\n",
    "# Examples\n",
    "# Sample inputs\tOutputs\n",
    "# hippo runs to us!\t\n",
    "# {'s': 2, 'r': 1, 't': 1, 'h': 1, 'n': 1, \n",
    "# 'i': 1, 'u': 2, 'o': 2, 'p': 2, ' ': 3, '!': 1}\n",
    "\n",
    "test_str = input(\"Please type a sentence\")\n",
    "frequencies = {}\n",
    "for i in test_str:\n",
    "    if i in frequencies:\n",
    "        frequencies[i] += 1\n",
    "    else:\n",
    "        frequencies[i] = 1\n",
    "print(frequencies)"
   ]
  },
  {
   "cell_type": "code",
   "execution_count": 7,
   "metadata": {},
   "outputs": [
    {
     "name": "stdout",
     "output_type": "stream",
     "text": [
      "Number of letters4, number of numbers is 2\n"
     ]
    }
   ],
   "source": [
    "stringobject = input(\"Please type a sentence\")\n",
    "keys=numbers=0\n",
    "for i in stringobject:\n",
    "    if i.isdigit():\n",
    "        numbers += 1\n",
    "    elif i.isalpha():\n",
    "        keys += 1\n",
    "    \n",
    "print(f\"Number of letters{keys}, number of numbers is {numbers}\")"
   ]
  },
  {
   "cell_type": "code",
   "execution_count": null,
   "metadata": {},
   "outputs": [],
   "source": []
  },
  {
   "cell_type": "code",
   "execution_count": null,
   "metadata": {},
   "outputs": [],
   "source": []
  }
 ],
 "metadata": {
  "interpreter": {
   "hash": "4ce0e62306dd6a5716965d4519ada776f947e6dfc145b604b11307c10277ef29"
  },
  "kernelspec": {
   "display_name": "Python 3.8.8 64-bit ('base': conda)",
   "language": "python",
   "name": "python3"
  },
  "language_info": {
   "codemirror_mode": {
    "name": "ipython",
    "version": 3
   },
   "file_extension": ".py",
   "mimetype": "text/x-python",
   "name": "python",
   "nbconvert_exporter": "python",
   "pygments_lexer": "ipython3",
   "version": "3.8.8"
  },
  "orig_nbformat": 4
 },
 "nbformat": 4,
 "nbformat_minor": 2
}
